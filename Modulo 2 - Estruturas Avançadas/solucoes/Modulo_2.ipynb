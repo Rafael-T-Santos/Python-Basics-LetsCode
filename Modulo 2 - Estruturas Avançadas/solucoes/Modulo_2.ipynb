{
 "cells": [
  {
   "cell_type": "markdown",
   "id": "4fdc1cd6",
   "metadata": {},
   "source": [
    "# Modulo 2"
   ]
  },
  {
   "cell_type": "markdown",
   "id": "e9174366",
   "metadata": {},
   "source": [
    "#### Questão 1\n",
    "Faça um programa que olhe todos os itens de uma lista e diga quantos deles são pares."
   ]
  },
  {
   "cell_type": "code",
   "execution_count": 5,
   "id": "17c385e2",
   "metadata": {},
   "outputs": [
    {
     "name": "stdout",
     "output_type": "stream",
     "text": [
      "A lista contem 6 valores pares.\n"
     ]
    }
   ],
   "source": [
    "lista = [1,2,3,4,5,6,7,8,9,10,12]\n",
    "contagem = 0\n",
    "\n",
    "for valor in lista:\n",
    "    if valor % 2 == 0:\n",
    "        contagem += 1\n",
    "print(f'A lista contem {contagem} valores pares.')  \n",
    "    "
   ]
  },
  {
   "cell_type": "markdown",
   "id": "fb0504da",
   "metadata": {},
   "source": [
    "#### Questão 2\n",
    "Faça um programa que peça para o usuário digitar uma palavra e imprima cada letra em uma linha."
   ]
  },
  {
   "cell_type": "code",
   "execution_count": 7,
   "id": "1a4916fc",
   "metadata": {},
   "outputs": [
    {
     "name": "stdout",
     "output_type": "stream",
     "text": [
      "Digite uma palavra qualquer: otorrinolaringologista\n",
      "o\n",
      "t\n",
      "o\n",
      "r\n",
      "r\n",
      "i\n",
      "n\n",
      "o\n",
      "l\n",
      "a\n",
      "r\n",
      "i\n",
      "n\n",
      "g\n",
      "o\n",
      "l\n",
      "o\n",
      "g\n",
      "i\n",
      "s\n",
      "t\n",
      "a\n"
     ]
    }
   ],
   "source": [
    "palavra = input('Digite uma palavra qualquer: ')\n",
    "\n",
    "for letra in palavra:\n",
    "    print(letra)"
   ]
  },
  {
   "cell_type": "markdown",
   "id": "189fd81d",
   "metadata": {},
   "source": [
    "#### Questão 3\n",
    "Faça uma função que recebe duas listas e retorna a soma item a item dessas listas.\n",
    "Exemplo: Se a função receber as listas [1,2,3] e [3,5,1], então a função deve retornar [1+3, 4+5, 3+1] = [4,9,4]."
   ]
  },
  {
   "cell_type": "code",
   "execution_count": 8,
   "id": "08cb12db",
   "metadata": {},
   "outputs": [
    {
     "data": {
      "text/plain": [
       "[4, 9, 4]"
      ]
     },
     "execution_count": 8,
     "metadata": {},
     "output_type": "execute_result"
    }
   ],
   "source": [
    "def soma_lista(lista1, lista2):\n",
    "    nova_lista = []\n",
    "    \n",
    "    for i in range(len(lista1)):\n",
    "        nova_lista.append(lista1[i] + lista2[i])\n",
    "    \n",
    "    return nova_lista\n",
    "\n",
    "lista1 = [1,4,3]\n",
    "lista2 = [3,5,1]\n",
    "\n",
    "soma_lista(lista1, lista2)"
   ]
  },
  {
   "cell_type": "markdown",
   "id": "ce238068",
   "metadata": {},
   "source": [
    "#### Questão 4\n",
    "Crie um dicionário cujas chaves são os meses do ano e os valores são a duração (em dias) de cada mês.\n"
   ]
  },
  {
   "cell_type": "code",
   "execution_count": 9,
   "id": "0992d379",
   "metadata": {},
   "outputs": [],
   "source": [
    "ano = {\n",
    "    'Janeiro': 31,\n",
    "    'Fevereiro': 28,\n",
    "    'Março': 31,\n",
    "    'Abril': 30,\n",
    "    'Maio': 31,\n",
    "    'Junho': 30,\n",
    "    'Julho': 31,\n",
    "    'Agosto': 31,\n",
    "    'Setembro': 30,\n",
    "    'Outubro': 31,\n",
    "    'Novembro': 30,\n",
    "    'Dezembro': 31,\n",
    "}"
   ]
  },
  {
   "cell_type": "markdown",
   "id": "0186e07a",
   "metadata": {},
   "source": [
    "#### Questão 5\n",
    "Imprima as chaves seguidas dos seus valores para dicionário criado no exercício anterior.\n",
    "Exemplo:\n",
    "    Janeiro - 31\n",
    "    Fevereiro - 28\n",
    "    Março - 31\n",
    "    Etc..."
   ]
  },
  {
   "cell_type": "code",
   "execution_count": 17,
   "id": "d73b60f1",
   "metadata": {},
   "outputs": [
    {
     "name": "stdout",
     "output_type": "stream",
     "text": [
      "Janeiro - 31\n",
      "Fevereiro - 28\n",
      "Março - 31\n",
      "Abril - 30\n",
      "Maio - 31\n",
      "Junho - 30\n",
      "Julho - 31\n",
      "Agosto - 31\n",
      "Setembro - 30\n",
      "Outubro - 31\n",
      "Novembro - 30\n",
      "Dezembro - 31\n"
     ]
    }
   ],
   "source": [
    "for chave in ano.keys():\n",
    "    print(f'{chave} - {ano[chave]}')"
   ]
  }
 ],
 "metadata": {
  "kernelspec": {
   "display_name": "Python 3 (ipykernel)",
   "language": "python",
   "name": "python3"
  },
  "language_info": {
   "codemirror_mode": {
    "name": "ipython",
    "version": 3
   },
   "file_extension": ".py",
   "mimetype": "text/x-python",
   "name": "python",
   "nbconvert_exporter": "python",
   "pygments_lexer": "ipython3",
   "version": "3.9.7"
  }
 },
 "nbformat": 4,
 "nbformat_minor": 5
}
