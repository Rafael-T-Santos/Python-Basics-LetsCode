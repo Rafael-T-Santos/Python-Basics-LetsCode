{
 "cells": [
  {
   "cell_type": "markdown",
   "id": "4fdc1cd6",
   "metadata": {},
   "source": [
    "# Modulo 1"
   ]
  },
  {
   "cell_type": "markdown",
   "id": "e9174366",
   "metadata": {},
   "source": [
    "#### Questão 1\n",
    "Faça um programa que peça um valor monetário e diminua-o em 15%. Seu programa deve imprimir a mensagem \"O novo valor é [valor]\"."
   ]
  },
  {
   "cell_type": "code",
   "execution_count": 1,
   "id": "17c385e2",
   "metadata": {},
   "outputs": [
    {
     "name": "stdout",
     "output_type": "stream",
     "text": [
      "Digite um valor monetário: 1000\n",
      "O novo valor é 850.0\n"
     ]
    }
   ],
   "source": [
    "valor_monetario = float(input('Digite um valor monetário: '))\n",
    "\n",
    "valor = valor_monetario - (valor_monetario*0.15)\n",
    "\n",
    "print(f'O novo valor é {valor}')"
   ]
  },
  {
   "cell_type": "markdown",
   "id": "fb0504da",
   "metadata": {},
   "source": [
    "#### Questão 2\n",
    "Faça um programa que leia a validade das informações:\n",
    "\n",
    "    a. Idade: entre 0 e 150;\n",
    "    b. Salário: maior que 0;\n",
    "    c. Sexo: M, F ou Outro;\n",
    "\n",
    "O programa deve imprimir uma mensagem de erro para cada informação inválida."
   ]
  },
  {
   "cell_type": "code",
   "execution_count": 14,
   "id": "1a4916fc",
   "metadata": {},
   "outputs": [
    {
     "name": "stdout",
     "output_type": "stream",
     "text": [
      "Digite uma idade entre 0 e 150 anos: 151\n",
      "Valor inválido. Digite uma idade entre 0 e 150 anos: 150\n",
      "Valor inválido. Digite uma idade entre 0 e 150 anos: 15\n",
      "Digite um valor de salário maior que 0: -1\n",
      "Valor inválido. Digite um salário maior que 0: 1212\n",
      "Digite um sexo com um dos valores a seguir: M, F, Outros: transformer\n",
      "Valor inválido. Digite um sexo válido: M, F, Outros: et bilu\n",
      "Valor inválido. Digite um sexo válido: M, F, Outros: outros\n"
     ]
    }
   ],
   "source": [
    "idade = input('Digite uma idade entre 0 e 150 anos: ')\n",
    "while int(idade) <= 0 or int(idade) >= 150:\n",
    "    idade = input('Valor inválido. Digite uma idade entre 0 e 150 anos: ')\n",
    "    \n",
    "salario = input('Digite um valor de salário maior que 0: ')\n",
    "while float(salario) <=0:\n",
    "    salario = input('Valor inválido. Digite um salário maior que 0: ')\n",
    "\n",
    "sexos = ['M', 'F', 'OUTROS']\n",
    "sexo = input('Digite um sexo com um dos valores a seguir: M, F, Outros: ')\n",
    "while sexo.upper() not in sexos:\n",
    "    sexo = input('Valor inválido. Digite um sexo válido: M, F, Outros: ')"
   ]
  },
  {
   "cell_type": "markdown",
   "id": "189fd81d",
   "metadata": {},
   "source": [
    "#### Questão 3\n",
    "Vamos fazer um programa para verificar quem é o assassino de um crime.\n",
    "Para descobrir o assassino, a polícia faz um pequeno questionário com 5 perguntas onde a resposta só pode ser sim ou não:\n",
    "\n",
    "    a. Mora perto da vítima?\n",
    "    b. Já trabalhou com a vítima?\n",
    "    c. Telefonou para a vítima?\n",
    "    d. Esteve no local do crime?\n",
    "    e. Devia para a vítima?\n",
    "\n",
    "Cada resposta sim dá um ponto para o suspeito. A polícia considera que os suspeitos com 5 pontos são os assassinos, com 4 a 3 pontos são cúmplices e 2 pontos são apenas suspeitos, necessitando outras investigações. Valores iguais ou abaixo de 1 são liberados."
   ]
  },
  {
   "cell_type": "code",
   "execution_count": 2,
   "id": "08cb12db",
   "metadata": {},
   "outputs": [
    {
     "name": "stdout",
     "output_type": "stream",
     "text": [
      "Responda todas as perguntas apenas com sim ou não.\n",
      "Cumplice\n"
     ]
    }
   ],
   "source": [
    "from unidecode import unidecode\n",
    "perguntas = ['Mora perto da vítima? ','Já trabalhou com a vítima? ',\n",
    "            'Telefonou para a vítima? ','Esteve no local do crime? ',\n",
    "            'Devia para a vítima? ']\n",
    "opcoes= {\n",
    "    1: 'Liberado',\n",
    "    2: 'Suspeito',\n",
    "    3: 'Cumplice',\n",
    "    4: 'Cumplice',\n",
    "    5: 'Assassino'\n",
    "}\n",
    "contagem = 0\n",
    "possiveis = ['SIM', 'NAO']\n",
    "print('Responda todas as perguntas apenas com sim ou não.')\n",
    "\n",
    "for pergunta in perguntas:\n",
    "    resposta = unidecode(input(pergunta))\n",
    "    while resposta.upper() not in possiveis:\n",
    "        resposta = input(f'Resposta inválida. {pergunta}')\n",
    "    if resposta.upper() == 'SIM':\n",
    "        contagem +=1\n",
    "    else:\n",
    "        pass\n",
    "\n",
    "print(opcoes[contagem])"
   ]
  },
  {
   "cell_type": "markdown",
   "id": "ce238068",
   "metadata": {},
   "source": [
    "#### Questão 4\n",
    "Faça um programa que imprima a tabuada do 9 (de 9 * 1 a 9 * 10) usando loops.\n"
   ]
  },
  {
   "cell_type": "code",
   "execution_count": 3,
   "id": "0992d379",
   "metadata": {},
   "outputs": [
    {
     "name": "stdout",
     "output_type": "stream",
     "text": [
      "9 * 1 = 9\n",
      "9 * 2 = 18\n",
      "9 * 3 = 27\n",
      "9 * 4 = 36\n",
      "9 * 5 = 45\n",
      "9 * 6 = 54\n",
      "9 * 7 = 63\n",
      "9 * 8 = 72\n",
      "9 * 9 = 81\n",
      "9 * 10 = 90\n"
     ]
    }
   ],
   "source": [
    "tabuada = int(input('Digite o número que deseja fazer a tabuada: '))\n",
    "\n",
    "for i in range(1,11):\n",
    "    print(f'{tabuada} * {i} = {tabuada*i}')"
   ]
  },
  {
   "cell_type": "code",
   "execution_count": null,
   "id": "6616ffd3",
   "metadata": {},
   "outputs": [],
   "source": []
  }
 ],
 "metadata": {
  "kernelspec": {
   "display_name": "Python 3.10.3 64-bit",
   "language": "python",
   "name": "python3"
  },
  "language_info": {
   "codemirror_mode": {
    "name": "ipython",
    "version": 3
   },
   "file_extension": ".py",
   "mimetype": "text/x-python",
   "name": "python",
   "nbconvert_exporter": "python",
   "pygments_lexer": "ipython3",
   "version": "3.10.3"
  },
  "vscode": {
   "interpreter": {
    "hash": "ef05ab1f06c68d9554d83b46f5b6aa7f2d0e06bd93a8cae5c94f940c05441b62"
   }
  }
 },
 "nbformat": 4,
 "nbformat_minor": 5
}
