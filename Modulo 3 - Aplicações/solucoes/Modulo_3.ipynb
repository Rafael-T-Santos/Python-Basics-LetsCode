{
 "cells": [
  {
   "cell_type": "markdown",
   "id": "4fdc1cd6",
   "metadata": {},
   "source": [
    "# Modulo 3"
   ]
  },
  {
   "cell_type": "markdown",
   "id": "e9174366",
   "metadata": {},
   "source": [
    "#### Questão 1\n",
    "Neste exercício você deve criar um programa que abra o arquivo \"alunos.csv\" e imprima o conteúdo do arquivo linha a linha.\n",
    "\n",
    "Note que esse é o primeiro exercício de uma sequência, então o seu código pode ser reaproveitado nos exercícios seguintes. Dito isso, a recomendação é usar a biblioteca CSV para ler o arquivo mesmo que não seja realmente necessário para esse primeiro item."
   ]
  },
  {
   "cell_type": "code",
   "execution_count": 2,
   "id": "17c385e2",
   "metadata": {},
   "outputs": [
    {
     "name": "stdout",
     "output_type": "stream",
     "text": [
      "['110201', 'Antonio Carlos', '20', 6.5, 8.5, 7.0, 6.0]\n",
      "['110212', 'Ana Beatriz', '20', 7.0, 7.0, 7.0, 8.0]\n",
      "['110218', 'Carlos Vernes', '17', 7.0, 7.0, 7.0, 7.0]\n",
      "['110307', 'Francisco Cunha', '20', 9.0, 8.5, 8.5, 10.0]\n",
      "['110275', 'Sandra Rosa', '15', 6.5, 7.5, 7.0, 7.0]\n",
      "['110281', 'Juliana Arruda', '18', 7.5, 7.0, 7.5, 8.0]\n",
      "['110301', 'Joao Galo', '20', 5.0, 6.5, 7.0, 5.0]\n",
      "['110263', 'José Valente', '20', 10.0, 10.0, 10.0, 10.0]\n",
      "['110271', 'Maria Ferreira', '19', 9.5, 8.0, 7.0, 10.0]\n",
      "['110236', 'Adriana Tavares', '20', 8.0, 8.0, 8.0, 8.0]\n"
     ]
    }
   ],
   "source": [
    "import csv\n",
    "with open('arquivos/alunos.csv', 'r', encoding='utf-8') as arquivo_csv:\n",
    "    leitor = csv.reader(arquivo_csv)\n",
    "    header_alunos = next(leitor)\n",
    "    for linha in leitor:\n",
    "        for valor in range(3, 7):\n",
    "            linha[valor] = float(linha[valor])\n",
    "        print(linha)"
   ]
  },
  {
   "cell_type": "markdown",
   "id": "fb0504da",
   "metadata": {},
   "source": [
    "#### Questão 2\n",
    "Para o segundo exercício, você deve criar um programa que realize uma cópia do arquivo \"alunos.csv\". Essa cópia decve ser um arquivo chamado \"alunos_copia.csv\".\n",
    "\n",
    "Novamente, aqui você também não precisa utilizar a biblioteca CSV mas se usar, seu código pode ser reutilizado na próxima questão sem muitas modificações."
   ]
  },
  {
   "cell_type": "code",
   "execution_count": 3,
   "id": "1a4916fc",
   "metadata": {},
   "outputs": [],
   "source": [
    "with open('arquivos/alunos.csv', 'r', encoding='utf-8') as arquivo_csv:\n",
    "    leitor = csv.reader(arquivo_csv)\n",
    "    with open('arquivos/alunos_copia.csv', 'w', encoding='utf-8', newline='') as arquivo_copia:\n",
    "        escritor = csv.writer(arquivo_copia)\n",
    "        for linha in leitor:\n",
    "            escritor.writerow(linha)"
   ]
  },
  {
   "cell_type": "markdown",
   "id": "189fd81d",
   "metadata": {},
   "source": [
    "#### Questão 3\n",
    "Finalmente chegamos ao último exercício dessa sequência relacionada à manipulação de arquivos.\n",
    "\n",
    "Neste exercício você deve criar um novo arquivo chamado \"alunos_media.csv\". Esse novo arquivo é uma cópia de \"alunos.csv\" porém com uma coluna a mais chamada \"Média\" que vai abrigar os valores das médias das provas de cada aluno da lista;\n",
    "\n",
    "Se você utilizou a biblioteca CSV para realizar os dois primeiros exercícios, muito será reaproveitado aqui. A biblioteca CSV permite a interpretação de cada linha como listas, que são fáceis de manipular."
   ]
  },
  {
   "cell_type": "code",
   "execution_count": 4,
   "id": "08cb12db",
   "metadata": {},
   "outputs": [],
   "source": [
    "with open('arquivos/alunos.csv', 'r', encoding='utf-8') as arquivo_csv:\n",
    "    leitor = csv.reader(arquivo_csv)\n",
    "    header_media = next(leitor) \n",
    "    with open('arquivos/alunos_media.csv', 'w', encoding='utf-8', newline='') as arquivo_copia:\n",
    "        escritor = csv.writer(arquivo_copia)\n",
    "        header_media.append('Media')\n",
    "        escritor.writerow(header_media)\n",
    "        for linha in leitor:\n",
    "            for valor in range(3, 7):\n",
    "                linha[valor] = float(linha[valor])\n",
    "            linha.append(sum(linha[3:7])/len(linha[3:7]))\n",
    "            escritor.writerow(linha)"
   ]
  },
  {
   "cell_type": "markdown",
   "id": "ce238068",
   "metadata": {},
   "source": [
    "#### Questão 4\n",
    "Você conhece Star Wars? Se trata, obviamente, da famosa saga espacial criada por George Lucas em 1977 e que deu origem a símbolos do cinema e da cultura pop como o imponente vilão Darth Vader ou o simpático robô R2-D2. A ideia desse exercício é justamente extrair informações do personagem Darth Vader através de uma API de Star Wars chamada SWAPI.\n",
    "\n",
    "Utilize a URL \"https://swapi.dev/api/people/4/\" para fazer a requisição dos dados de Darth Vader e extraia as informações \"name\" (nome), \"height\" (altura), \"mass\" (massa) e \"birth_year\" (ano de nascimento_ e imprima cada dado em uma linha.\n",
    "\n",
    "Dica: caso não se lembre de como fazer isso, assista novamente a aula sobre API porque o exemplo da aula pode te ajudar."
   ]
  },
  {
   "cell_type": "code",
   "execution_count": 3,
   "id": "5357a866",
   "metadata": {},
   "outputs": [
    {
     "name": "stdout",
     "output_type": "stream",
     "text": [
      "Darth Vader\n",
      "202\n",
      "136\n",
      "41.9BBY\n"
     ]
    }
   ],
   "source": [
    "import requests as r \n",
    "\n",
    "url = 'https://swapi.dev/api/people/4/'\n",
    "resp = r.get(url)\n",
    "data = resp.json()\n",
    "dados = ['name','height','mass','birth_year']\n",
    "for valor in dados:\n",
    "    print(data[valor])"
   ]
  },
  {
   "cell_type": "markdown",
   "id": "d5d09bd4",
   "metadata": {},
   "source": [
    "#### Questão 5\n",
    "Em 2019 surgiram os primeiros casos de COVID-19 que se alastrou pelo mundo resultando numa pandemia. A proposta deste exercício é utilizar uma API com informações de COVID-19 do mundo todo desde o início da proliferação e descobrir que dia o Brasil confirmou o primeiro caso de Coronavírus.\n",
    "\n",
    "Para fazer isso, utilize a URL \"https://api.covid19api.com/country/brazil\" em seu código. Ela retorna uma lista de dicionários, onde cada dicionário traz informações através das chaves:\n",
    "\n",
    "\"ID\", \"Country\", \"CountryCode\", \"Province\", \"City\", \"CityCode\", \"Lat\", \"Lon\", \"Confirmed\", \"Deaths\", \"Recovered\", \"Active\" e \"Date\".\n",
    "\n",
    "Utilize essas informações e retorne a data em que o Brasil confirmou o primeiro caso de COVID."
   ]
  },
  {
   "cell_type": "code",
   "execution_count": 4,
   "id": "f7aa1e5f",
   "metadata": {},
   "outputs": [
    {
     "name": "stdout",
     "output_type": "stream",
     "text": [
      "2020-02-26T00:00:00Z\n"
     ]
    }
   ],
   "source": [
    "import requests as r \n",
    "\n",
    "url = 'https://api.covid19api.com/country/brazil'\n",
    "resp = r.get(url)\n",
    "raw_data = resp.json()\n",
    "\n",
    "final_data = []\n",
    "for obs in raw_data:\n",
    "    final_data.append([obs['Confirmed'], obs['Deaths'], obs['Recovered'], obs['Active'], obs['Date']])\n",
    "\n",
    "for i in(range(1, len(final_data))):\n",
    "    if final_data[i][0] == 1:\n",
    "        print(final_data[i][4])\n",
    "        break\n",
    "    else:\n",
    "        pass"
   ]
  }
 ],
 "metadata": {
  "kernelspec": {
   "display_name": "Python 3.10.7 64-bit",
   "language": "python",
   "name": "python3"
  },
  "language_info": {
   "codemirror_mode": {
    "name": "ipython",
    "version": 3
   },
   "file_extension": ".py",
   "mimetype": "text/x-python",
   "name": "python",
   "nbconvert_exporter": "python",
   "pygments_lexer": "ipython3",
   "version": "3.10.7"
  },
  "vscode": {
   "interpreter": {
    "hash": "f9e4dc9f9849216cde722f1d05d16f9d6e39392894aab521b220488c9419cf33"
   }
  }
 },
 "nbformat": 4,
 "nbformat_minor": 5
}
