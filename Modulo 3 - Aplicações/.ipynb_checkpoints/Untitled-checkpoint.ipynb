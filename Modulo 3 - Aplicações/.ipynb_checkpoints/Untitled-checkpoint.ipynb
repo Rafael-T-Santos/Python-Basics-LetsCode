{
 "cells": [
  {
   "cell_type": "code",
   "execution_count": 1,
   "id": "ff064b06",
   "metadata": {},
   "outputs": [],
   "source": [
    "import csv"
   ]
  },
  {
   "cell_type": "code",
   "execution_count": 81,
   "id": "0cf8f952",
   "metadata": {},
   "outputs": [
    {
     "name": "stdout",
     "output_type": "stream",
     "text": [
      "['110201', 'Antonio Carlos', '20', 6.5, 8.5, 7.0, 6.0]\n",
      "['110212', 'Ana Beatriz', '20', 7.0, 7.0, 7.0, 8.0]\n",
      "['110218', 'Carlos Vernes', '17', 7.0, 7.0, 7.0, 7.0]\n",
      "['110307', 'Francisco Cunha', '20', 9.0, 8.5, 8.5, 10.0]\n",
      "['110275', 'Sandra Rosa', '15', 6.5, 7.5, 7.0, 7.0]\n",
      "['110281', 'Juliana Arruda', '18', 7.5, 7.0, 7.5, 8.0]\n",
      "['110301', 'Joao Galo', '20', 5.0, 6.5, 7.0, 5.0]\n",
      "['110263', 'José Valente', '20', 10.0, 10.0, 10.0, 10.0]\n",
      "['110271', 'Maria Ferreira', '19', 9.5, 8.0, 7.0, 10.0]\n",
      "['110236', 'Adriana Tavares', '20', 8.0, 8.0, 8.0, 8.0]\n"
     ]
    }
   ],
   "source": [
    "with open('arquivos/alunos.csv', 'r', encoding='utf-8') as arquivo_csv:\n",
    "    leitor = csv.reader(arquivo_csv)\n",
    "    header_alunos = next(leitor)\n",
    "    for linha in leitor:\n",
    "        for valor in range(3, 7):\n",
    "            linha[valor] = float(linha[valor])\n",
    "        print(linha)\n",
    "            \n"
   ]
  },
  {
   "cell_type": "code",
   "execution_count": 19,
   "id": "eb45f611",
   "metadata": {},
   "outputs": [],
   "source": [
    "with open('arquivos/alunos.csv', 'r', encoding='utf-8') as arquivo_csv:\n",
    "    leitor = csv.reader(arquivo_csv)\n",
    "    with open('arquivos/alunos_copia.csv', 'w', encoding='utf-8', newline='') as arquivo_copia:\n",
    "        escritor = csv.writer(arquivo_copia)\n",
    "        for linha in leitor:\n",
    "            escritor.writerow(linha)"
   ]
  },
  {
   "cell_type": "code",
   "execution_count": 103,
   "id": "3dba3323",
   "metadata": {},
   "outputs": [],
   "source": [
    "with open('arquivos/alunos.csv', 'r', encoding='utf-8') as arquivo_csv:\n",
    "    leitor = csv.reader(arquivo_csv)\n",
    "    header_media = next(leitor) \n",
    "    with open('arquivos/alunos_media.csv', 'w', encoding='utf-8', newline='') as arquivo_copia:\n",
    "        escritor = csv.writer(arquivo_copia)\n",
    "        header_media.append('Media')\n",
    "        escritor.writerow(header_media)\n",
    "        for linha in leitor:\n",
    "            for valor in range(3, 7):\n",
    "                linha[valor] = float(linha[valor])\n",
    "            linha.append(sum(linha[3:7])/len(linha[3:7]))\n",
    "            escritor.writerow(linha)"
   ]
  },
  {
   "cell_type": "code",
   "execution_count": null,
   "id": "7072c3aa",
   "metadata": {},
   "outputs": [],
   "source": []
  }
 ],
 "metadata": {
  "kernelspec": {
   "display_name": "Python 3",
   "language": "python",
   "name": "python3"
  },
  "language_info": {
   "codemirror_mode": {
    "name": "ipython",
    "version": 3
   },
   "file_extension": ".py",
   "mimetype": "text/x-python",
   "name": "python",
   "nbconvert_exporter": "python",
   "pygments_lexer": "ipython3",
   "version": "3.8.8"
  }
 },
 "nbformat": 4,
 "nbformat_minor": 5
}
